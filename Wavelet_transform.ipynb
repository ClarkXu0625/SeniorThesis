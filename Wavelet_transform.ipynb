{
 "cells": [
  {
   "cell_type": "code",
   "execution_count": 7,
   "id": "5574a761",
   "metadata": {},
   "outputs": [
    {
     "name": "stdout",
     "output_type": "stream",
     "text": [
      "Collecting PyWavelets\n",
      "  Downloading pywavelets-1.6.0-cp39-cp39-macosx_11_0_arm64.whl (4.3 MB)\n",
      "\u001b[K     |████████████████████████████████| 4.3 MB 6.6 MB/s eta 0:00:01\n",
      "\u001b[?25hRequirement already satisfied: numpy<3,>=1.22.4 in /Users/apple/opt/miniconda3/lib/python3.9/site-packages (from PyWavelets) (1.24.1)\n",
      "Installing collected packages: PyWavelets\n",
      "Successfully installed PyWavelets-1.6.0\n",
      "Note: you may need to restart the kernel to use updated packages.\n"
     ]
    }
   ],
   "source": [
    "pip install PyWavelets"
   ]
  },
  {
   "cell_type": "code",
   "execution_count": 8,
   "id": "aca3a118",
   "metadata": {},
   "outputs": [],
   "source": [
    "import pandas as pd\n",
    "import numpy as np\n",
    "import pywt"
   ]
  },
  {
   "cell_type": "code",
   "execution_count": 30,
   "id": "de82b136",
   "metadata": {},
   "outputs": [],
   "source": [
    "def apply_wavelet_transform(signal, wavelet='db1'):\n",
    "    # You can adjust the 'level' based on your specific needs or leave it to determine automatically\n",
    "    coeffs = pywt.wavedec(signal, wavelet, level=2)  # Auto-select the level of decomposition\n",
    "    threshold = 0.2\n",
    "    coeffs = [pywt.threshold(c, threshold, mode='soft') for c in coeffs]\n",
    "\n",
    "    # Reconstruct the signal using the thresholded coefficients\n",
    "    reconstructed_signal = pywt.waverec(coeffs, 'db1')\n",
    "    \n",
    "    return reconstructed_signal\n",
    "\n",
    "def wavelet_transform(fin_data):\n",
    "    wavelet_coeffs = []\n",
    "\n",
    "    for signal in fin_data:\n",
    "        coeffs = apply_wavelet_transform(signal)\n",
    "        wavelet_coeffs.append(coeffs)\n",
    "\n",
    "    print(wavelet_coeffs[0])\n",
    "    print(len(wavelet_coeffs))\n",
    "    return wavelet_coeffs"
   ]
  },
  {
   "cell_type": "markdown",
   "id": "3416171f",
   "metadata": {},
   "source": [
    "# Analyze Data"
   ]
  },
  {
   "cell_type": "code",
   "execution_count": 10,
   "id": "5534aa9a",
   "metadata": {},
   "outputs": [
    {
     "data": {
      "text/plain": [
       "<bound method NDFrame.head of                                                 waveform  TrueLabel  \\\n",
       "0      [-1.0406620750379925, -0.8445126251176561, -0....          1   \n",
       "1      [4.915105079281328, 7.70988315994501, 10.73303...          0   \n",
       "2      [-20.36218906111926, -20.421900864866227, -19....          1   \n",
       "3      [0.02841416155469005, 0.604403705601508, 2.119...          0   \n",
       "4      [19.97333772866248, 10.660426531627358, 1.8768...          0   \n",
       "...                                                  ...        ...   \n",
       "21091  [-3.4166879629529654, -2.161497386143672, 0.01...          0   \n",
       "21092  [-2.97935210818767, -6.452986479282135, -7.282...          0   \n",
       "21093  [134.81398484567808, 120.94542545933034, 101.3...          0   \n",
       "21094  [-13.166684964345606, -14.190057978309119, -12...          0   \n",
       "21095  [2.5252167243468264, 0.8216663095145034, -1.63...          0   \n",
       "\n",
       "       Prediction  \n",
       "0               0  \n",
       "1               1  \n",
       "2               0  \n",
       "3               1  \n",
       "4               1  \n",
       "...           ...  \n",
       "21091           1  \n",
       "21092           1  \n",
       "21093           1  \n",
       "21094           1  \n",
       "21095           1  \n",
       "\n",
       "[21096 rows x 3 columns]>"
      ]
     },
     "execution_count": 10,
     "metadata": {},
     "output_type": "execute_result"
    }
   ],
   "source": [
    "data = pd.read_csv('wrong_predictions.csv')\n",
    "\n",
    "\n",
    "# Convert the string representations back to lists\n",
    "import ast  # Safe eval for Python literals\n",
    "data['waveform'] = data['waveform'].apply(ast.literal_eval)\n",
    "data.head"
   ]
  },
  {
   "cell_type": "code",
   "execution_count": 33,
   "id": "9b631390",
   "metadata": {},
   "outputs": [
    {
     "name": "stdout",
     "output_type": "stream",
     "text": [
      "[ -0.88494683  -0.88494683  -0.87024949  -0.89964416  -2.01963831\n",
      "  -2.82453996  -4.23458184  -5.26156432  -6.84045714  -7.41868405\n",
      "  -8.22240769  -8.53543249  -8.7775688   -8.52772571  -6.77730064\n",
      "  -4.14328028   0.19988454   4.78569627   9.81890447  13.56854838\n",
      "  16.27161046  16.75176792  16.29945863  14.51519485  10.33892482\n",
      "   4.75578033  -3.16310374 -11.9316014  -21.10649231 -27.21903481\n",
      " -28.9711332  -25.97346784 -18.18100357  -8.76163235   1.1243426\n",
      "   9.05078276  14.55379184  16.44470676  16.01164944  13.97396982\n",
      "  10.78268175   8.93873481   7.64870726   7.30481459   6.00974112\n",
      "   4.66071042   2.10979666  -0.35791975  -2.89816491  -3.87662483\n",
      "  -3.75335067  -3.02143907  -1.45771202  -0.31611569   1.03197621\n",
      "   1.81825792   3.15783018   3.532355     4.05458559   4.05458559\n",
      "   3.94582581   3.74123863   2.68241194   1.58107579  -0.08844103\n",
      "  -0.690502    -0.56692429  -0.21201874   0.48786354   0.48786354\n",
      "  -0.31638797  -1.81041759  -4.36827959  -5.68337801  -6.23627785\n",
      "  -6.23627785]\n",
      "21096\n"
     ]
    },
    {
     "data": {
      "text/plain": [
       "21096"
      ]
     },
     "execution_count": 33,
     "metadata": {},
     "output_type": "execute_result"
    }
   ],
   "source": [
    "wave = data['waveform']\n",
    "np_wave = wave.to_numpy()\n",
    "transform = wavelet_transform(np_wave)\n",
    "len(transform)"
   ]
  },
  {
   "cell_type": "code",
   "execution_count": 36,
   "id": "ba97beda",
   "metadata": {},
   "outputs": [
    {
     "data": {
      "text/plain": [
       "(76,)"
      ]
     },
     "execution_count": 36,
     "metadata": {},
     "output_type": "execute_result"
    }
   ],
   "source": [
    "transform[10000].shape"
   ]
  },
  {
   "cell_type": "code",
   "execution_count": null,
   "id": "a266e1e5",
   "metadata": {},
   "outputs": [],
   "source": [
    "# Generate a sample signal\n",
    "signal = np.sin(np.linspace(0, 8*np.pi, 128)) + np.random.normal(0, 0.5, 128)\n",
    "\n",
    "# Perform Discrete Wavelet Transform\n",
    "coeffs = pywt.wavedec(signal, 'db1', level=3)\n",
    "\n",
    "# Thresholding small coefficients\n",
    "threshold = 0.2\n",
    "coeffs = [pywt.threshold(c, threshold, mode='soft') for c in coeffs]\n",
    "\n",
    "# Reconstruct the signal using the thresholded coefficients\n",
    "reconstructed_signal = pywt.waverec(coeffs, 'db1')"
   ]
  }
 ],
 "metadata": {
  "kernelspec": {
   "display_name": "Python 3 (ipykernel)",
   "language": "python",
   "name": "python3"
  },
  "language_info": {
   "codemirror_mode": {
    "name": "ipython",
    "version": 3
   },
   "file_extension": ".py",
   "mimetype": "text/x-python",
   "name": "python",
   "nbconvert_exporter": "python",
   "pygments_lexer": "ipython3",
   "version": "3.9.15"
  }
 },
 "nbformat": 4,
 "nbformat_minor": 5
}
